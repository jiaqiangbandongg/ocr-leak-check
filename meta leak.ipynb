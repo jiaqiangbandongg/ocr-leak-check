{
 "cells": [
  {
   "cell_type": "code",
   "execution_count": 1,
   "id": "e725c818-05e0-465f-98d2-8fe45bc96aa6",
   "metadata": {},
   "outputs": [],
   "source": [
    "import os\n",
    "import shutil"
   ]
  },
  {
   "cell_type": "code",
   "execution_count": 2,
   "id": "f43e117f-2d26-4bcf-b20c-995fb75fd1ea",
   "metadata": {},
   "outputs": [],
   "source": [
    "file_attr = []\n",
    "for filename in os.listdir(\"training_dataset/\"):\n",
    "    filepath = f\"training_dataset/{filename}\"\n",
    "    statinfo = os.stat(filepath)\n",
    "    st_ctime = statinfo.st_ctime\n",
    "    file_attr.append([filename,st_ctime])\n",
    "file_attr = sorted(file_attr,key=lambda x:x[1])"
   ]
  },
  {
   "cell_type": "code",
   "execution_count": 3,
   "id": "3f65e095-4e34-4d57-b10a-97c2c4f5f662",
   "metadata": {},
   "outputs": [],
   "source": [
    "os.mkdir(\"new_training_dataset\")\n",
    "os.mkdir(\"new_training_dataset/1\")\n",
    "os.mkdir(\"new_training_dataset/2\")\n",
    "os.mkdir(\"new_training_dataset/3\")"
   ]
  },
  {
   "cell_type": "code",
   "execution_count": 4,
   "id": "151e3049-b566-40d3-9637-7b29bd8b0105",
   "metadata": {},
   "outputs": [],
   "source": [
    "for filename,_ in file_attr[:1576]:\n",
    "    shutil.copy(f\"training_dataset/{filename}\",f\"new_training_dataset/1/{filename}\")\n",
    "for filename,_ in file_attr[1576:7554]:\n",
    "    shutil.copy(f\"training_dataset/{filename}\",f\"new_training_dataset/2/{filename}\")\n",
    "for filename,_ in file_attr[7554:]:\n",
    "    shutil.copy(f\"training_dataset/{filename}\",f\"new_training_dataset/3/{filename}\")"
   ]
  },
  {
   "cell_type": "code",
   "execution_count": null,
   "id": "b70e6826-f5d5-4dab-822f-67e7e3d463c8",
   "metadata": {},
   "outputs": [],
   "source": []
  }
 ],
 "metadata": {
  "kernelspec": {
   "display_name": "Python 3",
   "language": "python",
   "name": "python3"
  },
  "language_info": {
   "codemirror_mode": {
    "name": "ipython",
    "version": 3
   },
   "file_extension": ".py",
   "mimetype": "text/x-python",
   "name": "python",
   "nbconvert_exporter": "python",
   "pygments_lexer": "ipython3",
   "version": "3.8.8"
  }
 },
 "nbformat": 4,
 "nbformat_minor": 5
}
